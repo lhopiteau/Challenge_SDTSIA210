{
 "cells": [
  {
   "cell_type": "markdown",
   "metadata": {},
   "source": [
    "Team : Ruila PUSKAS-JUHASZ and Agathe LHOPITEAU"
   ]
  },
  {
   "cell_type": "markdown",
   "metadata": {},
   "source": [
    "# Challenge SD-TSIA210"
   ]
  },
  {
   "cell_type": "code",
   "execution_count": 3,
   "metadata": {},
   "outputs": [],
   "source": [
    "%matplotlib inline\n",
    "import numpy as np\n",
    "import sys\n",
    "import os\n",
    "import matplotlib.pyplot as plt\n",
    "import math\n",
    "from sklearn.neighbors import KNeighborsClassifier\n",
    "from sklearn.model_selection import cross_validate, train_test_split\n",
    "from sklearn.metrics import accuracy_score"
   ]
  },
  {
   "cell_type": "markdown",
   "metadata": {},
   "source": [
    "### Load and investigate the Data"
   ]
  },
  {
   "cell_type": "code",
   "execution_count": 4,
   "metadata": {},
   "outputs": [
    {
     "name": "stdout",
     "output_type": "stream",
     "text": [
      "(1068504, 37)\n",
      "(1068504,)\n"
     ]
    }
   ],
   "source": [
    "Xtrain = np.loadtxt('xtrain_challenge.csv', delimiter=',', skiprows = 1)\n",
    "Ytrain = np.loadtxt('ytrain_challenge.csv', delimiter=',', skiprows = 1)\n",
    "Xtest = np.loadtxt('xtest_challenge.csv', delimiter=',', skiprows = 1)\n",
    "\n",
    "#Let's check the shape of the training sets\n",
    "print(Xtrain.shape)\n",
    "print(Ytrain.shape)\n",
    "\n",
    "#Using our own training data to test\n",
    "X_train, X_test, Y_train, Y_test = train_test_split(Xtrain, Ytrain, test_size = 0.20)\n",
    "print(X_train.shape,Y_train.shape)\n",
    "print(X_test.shape,Y_test.shape)"
   ]
  },
  {
   "cell_type": "markdown",
   "metadata": {},
   "source": [
    "### Let's try a few methods\n",
    "### k-nearest neighbors"
   ]
  },
  {
   "cell_type": "code",
   "execution_count": null,
   "metadata": {},
   "outputs": [],
   "source": [
    "#We fix the number of neighbors equal to 3\n",
    "clfKNN = KNeighborsClassifier(n_neighbors=3)\n",
    "clfKNN = clfKNN.fit(X_train[:100], Y_train[:100])\n",
    "\n",
    "#We predict the labels \n",
    "Ypred_knn = clfKNN.predict(X_test[:100])"
   ]
  },
  {
   "cell_type": "code",
   "execution_count": null,
   "metadata": {},
   "outputs": [],
   "source": [
    "#Compute the accuracy\n",
    "accuracy_score(Y_test[:100], Ypred_knn)"
   ]
  }
 ],
 "metadata": {
  "kernelspec": {
   "display_name": "Python 3",
   "language": "python",
   "name": "python3"
  },
  "language_info": {
   "codemirror_mode": {
    "name": "ipython",
    "version": 3
   },
   "file_extension": ".py",
   "mimetype": "text/x-python",
   "name": "python",
   "nbconvert_exporter": "python",
   "pygments_lexer": "ipython3",
   "version": "3.7.4"
  }
 },
 "nbformat": 4,
 "nbformat_minor": 4
}
