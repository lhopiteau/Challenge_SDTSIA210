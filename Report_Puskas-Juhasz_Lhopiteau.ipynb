{
 "cells": [
  {
   "cell_type": "markdown",
   "metadata": {},
   "source": [
    "Team : Ruila PUSKAS-JUHASZ and Agathe LHOPITEAU"
   ]
  },
  {
   "cell_type": "markdown",
   "metadata": {},
   "source": [
    "# Challenge SD-TSIA210"
   ]
  },
  {
   "cell_type": "code",
   "execution_count": 3,
   "metadata": {},
   "outputs": [],
   "source": [
    "%matplotlib inline\n",
    "import numpy as np\n",
    "import sys\n",
    "import os\n",
    "import matplotlib.pyplot as plt\n",
    "import math\n",
    "from sklearn.neighbors import KNeighborsClassifier\n",
    "from sklearn.model_selection import cross_validate, train_test_split, GridSearchCV\n",
    "from sklearn.metrics import accuracy_score\n",
    "from sklearn import preprocessing\n",
    "from keras.models import Sequential\n",
    "from keras.layers import Dense, Activation, Flatten\n",
    "from keras import optimizers"
   ]
  },
  {
   "cell_type": "markdown",
   "metadata": {},
   "source": [
    "### Load and investigate the Data"
   ]
  },
  {
   "cell_type": "code",
   "execution_count": 4,
   "metadata": {},
   "outputs": [
    {
     "name": "stdout",
     "output_type": "stream",
     "text": [
      "(1068504, 37)\n",
      "(1068504,)\n"
     ]
    }
   ],
   "source": [
    "Xtrain = np.loadtxt('xtrain_challenge.csv', delimiter=',', skiprows = 1)\n",
    "Ytrain = np.loadtxt('ytrain_challenge.csv', delimiter=',', skiprows = 1)\n",
    "Xtest = np.loadtxt('xtest_challenge.csv', delimiter=',', skiprows = 1)\n",
    "\n",
    "#Let's check the shape of the training sets\n",
    "print(Xtrain.shape)\n",
    "print(Ytrain.shape)\n",
    "\n",
    "#Using our own training data to test\n",
    "#X_train, X_test, Y_train, Y_test = train_test_split(Xtrain, Ytrain, test_size = 0.20)\n",
    "#print(X_train.shape,Y_train.shape)\n",
    "#print(X_test.shape,Y_test.shape)"
   ]
  },
  {
   "cell_type": "markdown",
   "metadata": {},
   "source": [
    "### Let's try a few methods\n",
    "### k-nearest neighbors"
   ]
  },
  {
   "cell_type": "code",
   "execution_count": null,
   "metadata": {},
   "outputs": [],
   "source": [
    "############WITHOUT ENSEMBLES###################\n",
    "#We fix the number of neighbors equal to 100\n",
    "#clfKNN = KNeighborsClassifier(n_neighbors=100)\n",
    "#clfKNN = clfKNN.fit(Xtrain, Ytrain)\n",
    "\n",
    "#We predict the labels \n",
    "#Ypred_knn = clfKNN.predict(Xtest)\n",
    "\n",
    "#Compute the accuracy\n",
    "#accuracy_score(Ypred_knn, Y_test)\n",
    "\n",
    "\n",
    "###########WITH ENSEMBLES########################\n",
    "#create new a knn model\n",
    "knn = KNeighborsClassifier()\n",
    "\n",
    "#We want to test 30 different values for each neighbor\n",
    "params_knn = {'n_neighbors': np.arange(1, 9)}\n",
    "\n",
    "#use gridsearch to test all values for n_neighbors\n",
    "knn_gs = GridSearchCV(knn, params_knn, cv=3)"
   ]
  },
  {
   "cell_type": "code",
   "execution_count": null,
   "metadata": {},
   "outputs": [],
   "source": [
    "#fit model to training data\n",
    "knn_gs.fit(Xtrain, Ytrain)"
   ]
  },
  {
   "cell_type": "code",
   "execution_count": null,
   "metadata": {},
   "outputs": [],
   "source": [
    "#save best model\n",
    "knn_best = knn_gs.best_estimator_\n",
    "\n",
    "#check best n_neigbors value\n",
    "print(knn_gs.best_params_)\n",
    "\n",
    "#Prepare for submission\n",
    "#np.savetxt('ytest_knn.csv', Ypred_knn, fmt = '%1.0d', delimiter = ',')"
   ]
  },
  {
   "cell_type": "code",
   "execution_count": null,
   "metadata": {},
   "outputs": [],
   "source": [
    "#Prepare for submission\n",
    "ytest_knn = knn_best.predict(Xtest)\n",
    "np.savetxt('ytest_knn.csv', ytest_knn, fmt = '%1.0d', delimiter = ',')"
   ]
  },
  {
   "cell_type": "markdown",
   "metadata": {},
   "source": [
    "With the K-nearest neighbours method, we get a computation time of approximately 5 minutes and we get an accuracy of 0.9975245787338384, when we take 3 neighbors. \n",
    "\n",
    "### Deep Neural Network"
   ]
  },
  {
   "cell_type": "code",
   "execution_count": null,
   "metadata": {},
   "outputs": [],
   "source": [
    "#2-layer NN with 4 neurones in the second layer\n",
    "class NeuralNetwork:\n",
    "    #initialize the NN with number of layers and random numbers of weights and biases. \n",
    "    def __init__(self, x, y):\n",
    "        self.input      = x\n",
    "        self.weights1   = np.random.rand(self.input.shape[1],4) \n",
    "        self.weights2   = np.random.rand(4,1)                 \n",
    "        self.y          = y\n",
    "        self.output     = np.zeros(y.shape)\n",
    "   \n",
    "    #compute the output y\n",
    "    def feedforward(self):\n",
    "        self.layer1 = sigmoid(np.dot(self.input, self.weights1))\n",
    "        self.output = sigmoid(np.dot(self.layer1, self.weights2))\n",
    "    \n",
    "    #propagate the loss backwards so we can update the weight and the bias\n",
    "    def backprop(self):\n",
    "        # application of the chain rule to find derivative of the loss function with respect to weights2 and weights1\n",
    "        d_weights2 = np.dot(self.layer1.T, (2*(self.y - self.output) * sigmoid_derivative(self.output)))\n",
    "        d_weights1 = np.dot(self.input.T,  (np.dot(2*(self.y - self.output) * sigmoid_derivative(self.output), self.weights2.T) * sigmoid_derivative(self.layer1)))\n",
    "\n",
    "        # update the weights with the derivative (slope) of the loss function\n",
    "        self.weights1 += d_weights1\n",
    "        self.weights2 += d_weights2"
   ]
  },
  {
   "cell_type": "code",
   "execution_count": null,
   "metadata": {},
   "outputs": [],
   "source": [
    "# Cast pixels from uint8 to float32\n",
    "Xtrain = Xtrain.astype('float32')\n",
    "Xtest = Xtest.astype('float32')\n",
    "\n",
    "#Normalize the images so that they have zero mean and standard deviation\n",
    "\n",
    "Xtrain = preprocessing.scale(Xtrain)\n",
    "Xtest = preprocessing.scale(Xtest)\n",
    "\n"
   ]
  },
  {
   "cell_type": "code",
   "execution_count": null,
   "metadata": {},
   "outputs": [],
   "source": [
    "#input_shape = (1068504, 37)\n",
    "#output_shape = Xtrain.shape[1]\n",
    "\n",
    "modelDNN = Sequential()\n",
    "modelDNN.add(Flatten())\n",
    "#modelDNN.add(Dense(output_shape, input_shape = input_shape))\n",
    "#modelDNN.add(Activation('sigmoid'))\n",
    "#\n",
    "#output_shape = 30\n",
    "#modelDNN.add(Dense(output_shape))\n",
    "#modelDNN.add(Activation('softmax'))\n",
    "\n",
    "\n",
    "modelDNN.add(Dense(input_dim=Xtrain.shape[1], output_dim=3, activation='sigmoid'))\n",
    "modelDNN.add(Dense(input_dim=3, output_dim=Ytrain.shape[1], activation='softmax'))\n",
    "modelDNN.compile(loss='categorical_crossentropy', optimizer='sgd')\n",
    "modelDNN.fit(Xtrain, Ytrain, nb_epoch=10, batch_size=32, verbose=1, validation_data=None)"
   ]
  },
  {
   "cell_type": "code",
   "execution_count": null,
   "metadata": {},
   "outputs": [],
   "source": [
    "modelDNN.compile(optimizer = optimizers.SGD(lr=0.01), loss='categorical_crossentropy', metrics=['accuracy']) #lr = eta\n",
    "\n",
    "# This is where the actual training-testing happens\n",
    "# Number of epochs we want to train\n",
    "epochs = 10\n",
    "\n",
    "YpredNN = modelDNN.predict(Xtrain, batch_size=32)\n",
    "\n",
    "\n",
    "modelDNN.fit(Xtrain, Ytrain, batch_size=32, epochs = epochs, verbose=1)\n",
    "\n",
    "modelDNN.summary()"
   ]
  },
  {
   "cell_type": "markdown",
   "metadata": {},
   "source": [
    "Note down the performance of the larger network in terms of training and validation accuracy as a reference (save the loss/accuracy graphs of the network).\n",
    "\n",
    "Then, experiment as follow and compare performance with the reference scenario:\n",
    "\n",
    "*  Experiment increasing the size of the batch and compare the performance with reference.\n",
    "*  Experiment replacing the sigmoid activations with Relus and note what happens.\n",
    "*  Experiment with a larger architecture, for example: \n",
    "$$ (784) \\rightarrow (300) \\rightarrow (128) \\rightarrow (84) \\rightarrow (10) $$"
   ]
  },
  {
   "cell_type": "markdown",
   "metadata": {},
   "source": [
    "## Random Forrest"
   ]
  },
  {
   "cell_type": "code",
   "execution_count": null,
   "metadata": {},
   "outputs": [],
   "source": [
    "#from sklearn.model_selection import train_test_split\n",
    "#X_train, X_test, Y_train, Y_test = train_test_split(Xtrain, Ytrain, test_size = 0.20)\n",
    "\n",
    "from sklearn.ensemble import RandomForestClassifier\n",
    "\n",
    "# Create the model with 100 trees\n",
    "model = RandomForestClassifier(n_estimators=100, \n",
    "                               bootstrap = True,\n",
    "                               max_features = 'sqrt')\n",
    "# Fit on training data\n",
    "model.fit(Xtrain, Ytrain)"
   ]
  },
  {
   "cell_type": "code",
   "execution_count": null,
   "metadata": {},
   "outputs": [],
   "source": [
    "del Xtrain, Ytrain\n",
    "Ypred = model.predict(Xtest)"
   ]
  },
  {
   "cell_type": "code",
   "execution_count": null,
   "metadata": {},
   "outputs": [],
   "source": [
    "#Let's create our file that will be compared to Ytest\n",
    "np.savetxt('ytest_challenge_LHOPITEAU.csv', Ypred, fmt = '%1.0d', delimiter=',')"
   ]
  },
  {
   "cell_type": "markdown",
   "metadata": {},
   "source": [
    "Using only this random forest, we have a pretty good result : accuracy of 0.998063463898. Moreover, the computing time isn't very long, so this method is pretty efficient."
   ]
  },
  {
   "cell_type": "code",
   "execution_count": null,
   "metadata": {},
   "outputs": [],
   "source": []
  }
 ],
 "metadata": {
  "kernelspec": {
   "display_name": "Python 3",
   "language": "python",
   "name": "python3"
  },
  "language_info": {
   "codemirror_mode": {
    "name": "ipython",
    "version": 3
   },
   "file_extension": ".py",
   "mimetype": "text/x-python",
   "name": "python",
   "nbconvert_exporter": "python",
   "pygments_lexer": "ipython3",
   "version": "3.7.4"
  }
 },
 "nbformat": 4,
 "nbformat_minor": 4
}
