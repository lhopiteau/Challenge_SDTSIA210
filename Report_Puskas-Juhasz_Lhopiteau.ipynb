{
 "cells": [
  {
   "cell_type": "markdown",
   "metadata": {},
   "source": [
    "Team : Ruila PUSKAS-JUHASZ and Agathe LHOPITEAU"
   ]
  },
  {
   "cell_type": "markdown",
   "metadata": {},
   "source": [
    "# Challenge SD-TSIA210"
   ]
  },
  {
   "cell_type": "code",
   "execution_count": 3,
   "metadata": {},
   "outputs": [],
   "source": [
    "%matplotlib inline\n",
    "import numpy as np\n",
    "import sys\n",
    "import os\n",
    "import matplotlib.pyplot as plt\n",
    "import math\n",
    "from sklearn.model_selection import cross_validate, train_test_split, GridSearchCV\n",
    "from sklearn.metrics import accuracy_score\n",
    "from sklearn import preprocessing"
   ]
  },
  {
   "cell_type": "markdown",
   "metadata": {},
   "source": [
    "### Load and investigate the Data"
   ]
  },
  {
   "cell_type": "code",
   "execution_count": 4,
   "metadata": {},
   "outputs": [
    {
     "name": "stdout",
     "output_type": "stream",
     "text": [
      "(1068504, 37)\n",
      "(1068504,)\n"
     ]
    }
   ],
   "source": [
    "Xtrain = np.loadtxt('xtrain_challenge.csv', delimiter=',', skiprows = 1)\n",
    "Ytrain = np.loadtxt('ytrain_challenge.csv', delimiter=',', skiprows = 1)\n",
    "Xtest = np.loadtxt('xtest_challenge.csv', delimiter=',', skiprows = 1)\n",
    "\n",
    "#Let's check the shape of the training sets\n",
    "print(Xtrain.shape)\n",
    "print(Ytrain.shape)\n",
    "\n",
    "#Using our own training data to test, we used those commands to do our own tests and avoid uploading the file each time.\n",
    "#X_train, X_test, Y_train, Y_test = train_test_split(Xtrain, Ytrain, test_size = 0.20)\n",
    "#print(X_train.shape,Y_train.shape)\n",
    "#print(X_test.shape,Y_test.shape)"
   ]
  },
  {
   "cell_type": "markdown",
   "metadata": {},
   "source": [
    "Before processing and testing the data, we visualize it so as to have a better feeling about its distribution."
   ]
  },
  {
   "cell_type": "code",
   "execution_count": 8,
   "metadata": {},
   "outputs": [
    {
     "data": {
      "image/png": "[encoded data removed]",
      "text/plain": [
       "<Figure size 432x288 with 1 Axes>"
      ]
     },
     "metadata": {
      "needs_background": "light"
     },
     "output_type": "display_data"
    }
   ],
   "source": [
    "#Let's visualize the first 10.000 inputs of our dataset\n",
    "from sklearn.manifold import TSNE\n",
    "X_embedded = TSNE(n_components=2).fit_transform(Xtrain[:10000])\n",
    "\n",
    "X,Y=[],[]\n",
    "for i in range(len(X_embedded)) :\n",
    "    X.append(X_embedded[i][0])\n",
    "    Y.append(X_embedded[i][1])\n",
    "\n",
    "#We only print the 10.000 first inputs because it lasts too long to do so on the whole dataset.\n",
    "scatter=plt.scatter(X, Y, c=Ytrain[:10000])\n",
    "plt.legend(*scatter.legend_elements())\n",
    "plt.show()"
   ]
  },
  {
   "cell_type": "markdown",
   "metadata": {},
   "source": [
    "The distribution of the data is heterogenous, so we can think about separating it into two classes. \n",
    "<br> \n",
    "After this remark, we are going to scale the data to gain efficiency during the learning processes. "
   ]
  },
  {
   "cell_type": "code",
   "execution_count": 9,
   "metadata": {},
   "outputs": [],
   "source": [
    "#Scaling the data for more efficiency during learning processes\n",
    "Xtrain = preprocessing.scale(Xtrain)\n",
    "Xtest = preprocessing.scale(Xtest)"
   ]
  },
  {
   "cell_type": "markdown",
   "metadata": {},
   "source": [
    "## Let's try a few methods\n"
   ]
  },
  {
   "cell_type": "markdown",
   "metadata": {},
   "source": [
    "## Deep Neural Network"
   ]
  },
  {
   "cell_type": "code",
   "execution_count": 10,
   "metadata": {},
   "outputs": [
    {
     "name": "stdout",
     "output_type": "stream",
     "text": [
      "WARNING:tensorflow:From C:\\Users\\Agathe\\Anaconda3\\envs\\ml\\lib\\site-packages\\tensorflow\\python\\ops\\resource_variable_ops.py:435: colocate_with (from tensorflow.python.framework.ops) is deprecated and will be removed in a future version.\n",
      "Instructions for updating:\n",
      "Colocations handled automatically by placer.\n",
      "WARNING:tensorflow:From C:\\Users\\Agathe\\Anaconda3\\envs\\ml\\lib\\site-packages\\tensorflow\\python\\ops\\math_ops.py:3066: to_int32 (from tensorflow.python.ops.math_ops) is deprecated and will be removed in a future version.\n",
      "Instructions for updating:\n",
      "Use tf.cast instead.\n",
      "Epoch 1/10\n",
      "1068504/1068504 [==============================] - 47s 44us/step - loss: 0.0709 - accuracy: 0.9808\n",
      "Epoch 2/10\n",
      "1068504/1068504 [==============================] - 48s 45us/step - loss: 0.0187 - accuracy: 0.9977\n",
      "Epoch 3/10\n",
      "1068504/1068504 [==============================] - 47s 44us/step - loss: 0.0126 - accuracy: 0.9979\n",
      "Epoch 4/10\n",
      "1068504/1068504 [==============================] - 48s 45us/step - loss: 0.0103 - accuracy: 0.9980\n",
      "Epoch 5/10\n",
      "1068504/1068504 [==============================] - 47s 44us/step - loss: 0.0092 - accuracy: 0.9980\n",
      "Epoch 6/10\n",
      "1068504/1068504 [==============================] - 47s 44us/step - loss: 0.0085 - accuracy: 0.9980\n",
      "Epoch 7/10\n",
      "1068504/1068504 [==============================] - 47s 44us/step - loss: 0.0081 - accuracy: 0.9980\n",
      "Epoch 8/10\n",
      "1068504/1068504 [==============================] - 47s 44us/step - loss: 0.0077 - accuracy: 0.9981\n",
      "Epoch 9/10\n",
      "1068504/1068504 [==============================] - 47s 44us/step - loss: 0.0075 - accuracy: 0.9981\n",
      "Epoch 10/10\n",
      "1068504/1068504 [==============================] - 48s 45us/step - loss: 0.0073 - accuracy: 0.9981\n"
     ]
    },
    {
     "data": {
      "text/plain": [
       "array([0.00091311, 0.00150186, 0.00100604, ..., 0.0008471 , 0.00089806,\n",
       "       0.00097865], dtype=float32)"
      ]
     },
     "execution_count": 10,
     "metadata": {},
     "output_type": "execute_result"
    }
   ],
   "source": [
    "from keras.models import Sequential\n",
    "from keras.layers import Dropout\n",
    "from keras.layers import Dense, Activation, Flatten\n",
    "from keras import optimizers\n",
    "\n",
    "data = Xtrain\n",
    "labels = Ytrain\n",
    "modelDNN = Sequential()\n",
    "modelDNN.add(Dense(32,activation='softmax',input_dim=37))\n",
    "modelDNN.add(Dense(1, activation='sigmoid'))\n",
    "\n",
    "#modelDNN.compile(optimizer='rmsprop', loss='binary_crossentropy',metrics=['accuracy'])\n",
    "\n",
    "from keras.optimizers import SGD\n",
    "opt = SGD(lr=0.01)\n",
    "modelDNN.compile(loss = \"binary_crossentropy\", optimizer = opt, metrics = ['accuracy'])\n",
    "\n",
    "modelDNN.fit(Xtrain,Ytrain,epochs=10,batch_size=32)\n",
    "Ypred_dnn = modelDNN.predict(Xtest)\n",
    "np.reshape(Ypred_dnn,(len(Ypred_dnn,)))"
   ]
  },
  {
   "cell_type": "markdown",
   "metadata": {},
   "source": [
    "This method doesn't take too much time (about 10min), and gives a pretty good accarcy. <br>\n",
    "The output array gives the probability, for each row, to have a label 1. We decide not to change this and to reuse this information later (in the final computation algorithm). The only change we make on this output is to reshape it."
   ]
  },
  {
   "cell_type": "markdown",
   "metadata": {},
   "source": [
    "## Random Forest"
   ]
  },
  {
   "cell_type": "markdown",
   "metadata": {},
   "source": [
    "Before training the random forest algorithm, we are going to tune the parameters, that is,  the number of trees needed for the forest to correctly predict Xtest. To do that, we'll use a Grid Search. <br>\n",
    "We test three values 50, 100 and 200 because our manual tries showed that the number of tree is between 50 and 200, and that 100 is a presumably good number. Let's verify that this assumption is correct. "
   ]
  },
  {
   "cell_type": "code",
   "execution_count": 12,
   "metadata": {},
   "outputs": [
    {
     "name": "stdout",
     "output_type": "stream",
     "text": [
      "{'n_estimators': 100}\n"
     ]
    }
   ],
   "source": [
    "from sklearn.ensemble import RandomForestClassifier\n",
    "\n",
    "############################# First we apply a grid search to see which parameter is the best######\n",
    "rfclass = RandomForestClassifier()\n",
    "\n",
    "#Create a dictionnary of all values we want to test for n_estimators, aka the number of trees\n",
    "params_rf = {\"n_estimators\": [50, 100, 200]}\n",
    "\n",
    "#use gridsearch to test all values for n_estimators\n",
    "modelRF_gs = GridSearchCV(rfclass, params_rf, cv=5)\n",
    "\n",
    "# Fit on training data\n",
    "modelRF_gs.fit(Xtrain, Ytrain)\n",
    "\n",
    "#save best model\n",
    "rf_best = modelRF_gs.best_estimator_\n",
    "\n",
    "#check best n_estimators value\n",
    "print(modelRF_gs.best_params_)"
   ]
  },
  {
   "cell_type": "markdown",
   "metadata": {},
   "source": [
    "When we compute the grid search, we get : \n",
    "* for 1000 features : 100 trees\n",
    "* for 10 000 features : 50 trees\n",
    "* for 100 000 features : 100 trees\n",
    "* for the whole data set : 100 trees. \n",
    "\n",
    "<br> We will thus chose 100 trees for our random forest. "
   ]
  },
  {
   "cell_type": "code",
   "execution_count": 13,
   "metadata": {},
   "outputs": [],
   "source": [
    "# Create the model with 100 trees\n",
    "model = RandomForestClassifier(n_estimators=100, \n",
    "                               bootstrap = True,\n",
    "                               max_features = 'sqrt')\n",
    "# Fit on training data\n",
    "model.fit(Xtrain, Ytrain)\n",
    "\n",
    "Ypred_forest = model.predict(Xtest)"
   ]
  },
  {
   "cell_type": "markdown",
   "metadata": {},
   "source": [
    "Using only this random forest, we have a pretty good result : accuracy of 0.998063463898. Moreover, the computing time isn't very long, so this method is pretty efficient and we decide to keep it for our ensemble learning."
   ]
  },
  {
   "cell_type": "markdown",
   "metadata": {},
   "source": [
    "## Logistic regression "
   ]
  },
  {
   "cell_type": "markdown",
   "metadata": {},
   "source": [
    "We don't need to do any fine-tuning Grid Search for the Logistic Regression classifier. Furthermore, the computing time is quite short so we decide to keep this method as well in our ensemble. "
   ]
  },
  {
   "cell_type": "code",
   "execution_count": 14,
   "metadata": {},
   "outputs": [
    {
     "data": {
      "text/plain": [
       "LogisticRegression(C=1.0, class_weight=None, dual=False, fit_intercept=True,\n",
       "                   intercept_scaling=1, l1_ratio=None, max_iter=1000,\n",
       "                   multi_class='auto', n_jobs=None, penalty='l2',\n",
       "                   random_state=None, solver='lbfgs', tol=0.0001, verbose=0,\n",
       "                   warm_start=False)"
      ]
     },
     "execution_count": 14,
     "metadata": {},
     "output_type": "execute_result"
    }
   ],
   "source": [
    "from sklearn.linear_model import LogisticRegression\n",
    "logreg = LogisticRegression(max_iter=1000)\n",
    "logreg.fit(Xtrain, Ytrain)"
   ]
  },
  {
   "cell_type": "code",
   "execution_count": 15,
   "metadata": {},
   "outputs": [],
   "source": [
    "Ypred_logreg = logreg.predict(Xtest)"
   ]
  },
  {
   "cell_type": "markdown",
   "metadata": {},
   "source": [
    "This method provides a pretty good accuracy : 0.9978, and is computed very quickly (less than 5 minutes). We thus decide to keep it for our futur ensemble learning."
   ]
  },
  {
   "cell_type": "markdown",
   "metadata": {},
   "source": [
    "## K-nearest neighbours"
   ]
  },
  {
   "cell_type": "code",
   "execution_count": 10,
   "metadata": {},
   "outputs": [
    {
     "name": "stdout",
     "output_type": "stream",
     "text": [
      "{'n_neighbors': 3}\n"
     ]
    }
   ],
   "source": [
    "from sklearn.neighbors import KNeighborsClassifier\n",
    "\n",
    "############WITHOUT ENSEMBLES###################\n",
    "#We fix the number of neighbors equal to 100\n",
    "#clfKNN = KNeighborsClassifier(n_neighbors=100)\n",
    "#clfKNN = clfKNN.fit(Xtrain, Ytrain)\n",
    "\n",
    "#We predict the labels \n",
    "#Ypred_knn = clfKNN.predict(Xtest)\n",
    "\n",
    "#Compute the accuracy\n",
    "#accuracy_score(Ypred_knn, Y_test)\n",
    "\n",
    "\n",
    "###########WITH ENSEMBLES########################\n",
    "#create new a knn model\n",
    "knn = KNeighborsClassifier()\n",
    "\n",
    "#We want to test 30 different values for each neighbor\n",
    "params_knn = {'n_neighbors': np.arange(1, 9)}\n",
    "\n",
    "#use gridsearch to test all values for n_neighbors\n",
    "knn_gs = GridSearchCV(knn, params_knn, cv=3)\n",
    "\n",
    "#fit model to training data\n",
    "knn_gs.fit(Xtrain[:10000], Ytrain[:10000])\n",
    "\n",
    "#save best model\n",
    "knn_best = knn_gs.best_estimator_\n",
    "\n",
    "#check best n_neigbors value\n",
    "print(knn_gs.best_params_)\n",
    "\n",
    "#Prepare for submission\n",
    "#np.savetxt('ytest_knn.csv', Ypred_knn, fmt = '%1.0d', delimiter = ',')\n",
    "\n",
    "#Prepare for submission\n",
    "ytest_knn = knn_best.predict(Xtest)\n",
    "#np.savetxt('ytest_knn.csv', ytest_knn, fmt = '%1.0d', delimiter = ',')"
   ]
  },
  {
   "cell_type": "markdown",
   "metadata": {},
   "source": [
    "Knn is very quick for features under 100 000, after it is rather slow. To get free from this long computation of the grid search and of the fit, we will test manually the results given by this code for 1000, 10000, 100 000 features. We see that there is a tendancy: the number of neighbours seems to tend towards 3, so we will keep this parameter in the following cell. "
   ]
  },
  {
   "cell_type": "code",
   "execution_count": null,
   "metadata": {},
   "outputs": [],
   "source": [
    "####### DO NOT RUN #################\n",
    "modelKNN = KNeighborsClassifier(3)\n",
    "modelKNN.fit(Xtrain, Ytrain)\n",
    "Ypred_knn = modelKNN.predict(Xtest)"
   ]
  },
  {
   "cell_type": "markdown",
   "metadata": {},
   "source": [
    "When we use our own dataset (with a train_test_split), with the K-nearest neighbours method, we get a computation time of approximately 5 minutes and we get an accuracy of 0.9975245787338384, when we take 3 neighbors. \n",
    "<br> However, after running the above cell on the whole dataset, the program is still running after 16 hours! After trying different possibilities (Google Colab, connecting to a school computer) that didn't work because of connectivity problems mainly, we decided to drop this method and focus on the Deep Neural Network, the Random Forest and Logistic Regression and see how we can combine them."
   ]
  },
  {
   "cell_type": "markdown",
   "metadata": {},
   "source": [
    "## Now let's vote for best classifier"
   ]
  },
  {
   "cell_type": "markdown",
   "metadata": {},
   "source": [
    "We choose to compute a new output Ypred, depending on the different ones we found with the Random Forest, the Neural Network and the Logistic Regression. We decide that if, for a row, at least 2 of those methods give a label 1, then it's a 1 ; otherwise this is a 0. This can be translated by having the sum of the three given labels equal or greater than 1.5. The fact that the Neural Network gives probabilities doesn't change anything : if a value is >= 0.5, we say it's a 1, else a 0."
   ]
  },
  {
   "cell_type": "code",
   "execution_count": 17,
   "metadata": {},
   "outputs": [],
   "source": [
    "Ypred = []\n",
    "for i in range(len(Ypred_logreg)):\n",
    "    if Ypred_logreg[i] + Ypred_forest[i] + Ypred_dnn[i] >= 2 :\n",
    "        Ypred.append(1)\n",
    "    else :\n",
    "        Ypred.append(0)\n",
    "Ypred = np.array(Ypred)\n",
    "\n",
    "#We can then save our file that will be uploaded on the website\n",
    "np.savetxt('ytest_challenge_LHOPITEAU_PUSKAS.csv', Ypred, fmt = '%1.0d', delimiter = ',')\n"
   ]
  },
  {
   "cell_type": "markdown",
   "metadata": {},
   "source": [
    "## Remarks and conclusion\n",
    "\n",
    "When submitting this file on the website, we got an accuracy of approximately 0.9970. Since the DNN gave the lowest accuracy of all three methods, we tried to replace the labels given by the Deep Neural Network with other methods, such as a SVM and Boosted Gradient. However, the SVM took too much time to run and the Boosted Gradient conferred an even lower accuracy. We thus decided to keep the DNN in the ensemble. \n",
    "\n",
    "<br>\n",
    "The problem is that the accuracy of *any* ensemble is lower than the accuracy given by random forest alone, which is illogical. Thus we examined our methods to spot an overfitting or underfitting, but it's not the case here. So our interrogation is still up. "
   ]
  },
  {
   "cell_type": "code",
   "execution_count": null,
   "metadata": {},
   "outputs": [],
   "source": []
  }
 ],
 "metadata": {
  "kernelspec": {
   "display_name": "Python 3",
   "language": "python",
   "name": "python3"
  },
  "language_info": {
   "codemirror_mode": {
    "name": "ipython",
    "version": 3
   },
   "file_extension": ".py",
   "mimetype": "text/x-python",
   "name": "python",
   "nbconvert_exporter": "python",
   "pygments_lexer": "ipython3",
   "version": "3.7.4"
  }
 },
 "nbformat": 4,
 "nbformat_minor": 4
}
